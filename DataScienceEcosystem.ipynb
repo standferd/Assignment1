{
 "cells": [
  {
   "cell_type": "markdown",
   "id": "dee657ea-589c-4b13-b055-65ad5a83a429",
   "metadata": {},
   "source": [
    "# Data Science Tools and Ecosystem"
   ]
  },
  {
   "cell_type": "markdown",
   "id": "4c8f475e-be72-4674-9557-4277beca1548",
   "metadata": {},
   "source": [
    "In this notebook, Data Science Tools and Ecosystem are summarized."
   ]
  },
  {
   "cell_type": "markdown",
   "id": "e61a2bb9-f972-495f-8594-1103ed8d983b",
   "metadata": {},
   "source": [
    "**Objectives:**\n",
    "- List popular languages for Data Science.\n",
    "- Commonly used libraries by Data Scientists.\n",
    "- Some open source development environment tools.\n",
    "- Introduction to arithmetic expression."
   ]
  },
  {
   "cell_type": "markdown",
   "id": "55c80f13-82df-4a41-97ef-3a1795fa3391",
   "metadata": {},
   "source": [
    "Some of the popular languages that Data Scientists use are:\n",
    "1. Python\n",
    "2. R\n",
    "3. Julia\n",
    "4. SQL\n",
    "5. Scala"
   ]
  },
  {
   "cell_type": "markdown",
   "id": "efbb8283-f70e-4159-b0f6-9afd38304dee",
   "metadata": {},
   "source": [
    "Some of the commonly used libraries used by Data Scientists include:\n",
    "\n",
    "For Python:\n",
    "1. Pandas\n",
    "2. NumPy\n",
    "3. Matplotlib\n",
    "4. Seaborn\n",
    "5. Scikit-Learn\n",
    "6. Keras\n",
    "7. TensorFlow\n",
    "8. PyTorch\n",
    "\n",
    "For R:\n",
    "1. ggplot\n",
    "2. caret\n",
    "3. stringr\n",
    "4. dplyr\n",
    "5. plotly\n",
    "\n",
    "For Scala:\n",
    "1. Vegas\n",
    "2. BigDL"
   ]
  },
  {
   "cell_type": "markdown",
   "id": "30d4ac23-c29c-4ef7-a7a1-12989dd8e2b9",
   "metadata": {},
   "source": [
    "| Data Science Tools |\n",
    "| ------------------ |\n",
    "| Jupyter Notebooks |\n",
    "| Rstudio |\n",
    "| Spyder |"
   ]
  },
  {
   "cell_type": "markdown",
   "id": "f58a2369-cd59-4902-bed4-9329e905565c",
   "metadata": {},
   "source": [
    "### Below are a few examples of evaluating arithmetic expressions in Python"
   ]
  },
  {
   "cell_type": "code",
   "execution_count": 3,
   "id": "f9dfd8a7-891f-4747-bb38-302ff200316e",
   "metadata": {},
   "outputs": [
    {
     "data": {
      "text/plain": [
       "10"
      ]
     },
     "execution_count": 3,
     "metadata": {},
     "output_type": "execute_result"
    }
   ],
   "source": [
    "# Addition \n",
    "5+5"
   ]
  },
  {
   "cell_type": "code",
   "execution_count": 4,
   "id": "026d2876-0e85-4be3-9454-e7476ee3fea9",
   "metadata": {},
   "outputs": [
    {
     "data": {
      "text/plain": [
       "16"
      ]
     },
     "execution_count": 4,
     "metadata": {},
     "output_type": "execute_result"
    }
   ],
   "source": [
    "# Multiplication\n",
    "4*4"
   ]
  },
  {
   "cell_type": "code",
   "execution_count": 5,
   "id": "288af0c3-562a-48ab-8171-acea9b3a76e8",
   "metadata": {},
   "outputs": [
    {
     "data": {
      "text/plain": [
       "0"
      ]
     },
     "execution_count": 5,
     "metadata": {},
     "output_type": "execute_result"
    }
   ],
   "source": [
    "# Subtraction\n",
    "3-3"
   ]
  },
  {
   "cell_type": "code",
   "execution_count": 7,
   "id": "a224e928-2606-4ba8-9b49-f063f1571273",
   "metadata": {},
   "outputs": [
    {
     "data": {
      "text/plain": [
       "3.0"
      ]
     },
     "execution_count": 7,
     "metadata": {},
     "output_type": "execute_result"
    }
   ],
   "source": [
    "# Division\n",
    "6/2"
   ]
  },
  {
   "cell_type": "code",
   "execution_count": 8,
   "id": "d44685bf-959c-44c5-a19e-c8dea5831412",
   "metadata": {},
   "outputs": [
    {
     "data": {
      "text/plain": [
       "17"
      ]
     },
     "execution_count": 8,
     "metadata": {},
     "output_type": "execute_result"
    }
   ],
   "source": [
    "# This a simple arithmetic expression to mutiply then add integers\n",
    "(3*4)+5"
   ]
  },
  {
   "cell_type": "code",
   "execution_count": 14,
   "id": "91a32068-2999-47fb-be0f-583a20cb01aa",
   "metadata": {},
   "outputs": [
    {
     "name": "stdout",
     "output_type": "stream",
     "text": [
      "3.3333333333333335\n"
     ]
    }
   ],
   "source": [
    "# This will convert 200 minutes to hours by diving by 60\n",
    "a=200\n",
    "b=60\n",
    "c=a/b\n",
    "print(c)"
   ]
  },
  {
   "cell_type": "markdown",
   "id": "9861e1dc-4148-4112-a70b-838357fa7b1d",
   "metadata": {},
   "source": [
    "## Author\n",
    "Aditya Utkarsh Sinha"
   ]
  },
  {
   "cell_type": "code",
   "execution_count": null,
   "id": "6b2da3dc-ddc6-4896-9237-e4af2a6ee317",
   "metadata": {},
   "outputs": [],
   "source": []
  }
 ],
 "metadata": {
  "kernelspec": {
   "display_name": "Python 3 (ipykernel)",
   "language": "python",
   "name": "python3"
  },
  "language_info": {
   "codemirror_mode": {
    "name": "ipython",
    "version": 3
   },
   "file_extension": ".py",
   "mimetype": "text/x-python",
   "name": "python",
   "nbconvert_exporter": "python",
   "pygments_lexer": "ipython3",
   "version": "3.12.7"
  }
 },
 "nbformat": 4,
 "nbformat_minor": 5
}
